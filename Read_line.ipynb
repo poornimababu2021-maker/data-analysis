{
  "nbformat": 4,
  "nbformat_minor": 0,
  "metadata": {
    "colab": {
      "provenance": [],
      "authorship_tag": "ABX9TyOhBKN/RevEnfdSbYWBCfGX",
      "include_colab_link": true
    },
    "kernelspec": {
      "name": "python3",
      "display_name": "Python 3"
    },
    "language_info": {
      "name": "python"
    }
  },
  "cells": [
    {
      "cell_type": "markdown",
      "metadata": {
        "id": "view-in-github",
        "colab_type": "text"
      },
      "source": [
        "<a href=\"https://colab.research.google.com/github/poornimababu2021-maker/data-analysis/blob/main/Read_line.ipynb\" target=\"_parent\"><img src=\"https://colab.research.google.com/assets/colab-badge.svg\" alt=\"Open In Colab\"/></a>"
      ]
    },
    {
      "cell_type": "markdown",
      "source": [
        ".Create a new file 'notes.txt' and write 3 lines to it\n",
        ".Read line by line and print only lines containing 'python'\n",
        ".Append one new line and display the final content"
      ],
      "metadata": {
        "id": "I-UQHBSTNLPm"
      }
    },
    {
      "cell_type": "code",
      "source": [
        "with open (\"notes.txt\",\"w\")as file:\n",
        "    file.write(\"python is easy to learn.\\n\")\n",
        "    file.write(\"java is a powerful language.\\n\")\n",
        "    file.write(\"python is great for data analysis.\\n\")\n",
        "    print(\"Lines containing 'python':\")\n",
        "with open (\"notes.txt\",\"r\")as file:\n",
        "        for line in file:\n",
        "            if \"python\" in line:\n",
        "                print(line.strip())\n",
        "with open (\"notes.txt\",\"a\")as file:\n",
        "    file.write(\"python is used in web development.\\n\")\n",
        "    print(\"\\nfinal content of notes.txt:\")\n",
        "with open (\"notes.txt\",\"r\")as file:\n",
        "        print(file.read())"
      ],
      "metadata": {
        "colab": {
          "base_uri": "https://localhost:8080/"
        },
        "id": "HgMlCku9NLyA",
        "outputId": "1fdb727b-19fa-4c6b-d8cd-4198a0bfa52d"
      },
      "execution_count": null,
      "outputs": [
        {
          "output_type": "stream",
          "name": "stdout",
          "text": [
            "Lines containing 'python':\n",
            "python is easy to learn.\n",
            "python is great for data analysis.\n",
            "\n",
            "final content of notes.txt:\n",
            "python is easy to learn.\n",
            "java is a powerful language.\n",
            "python is great for data analysis.\n",
            "python is used in web development.\n",
            "\n"
          ]
        }
      ]
    }
  ]
}