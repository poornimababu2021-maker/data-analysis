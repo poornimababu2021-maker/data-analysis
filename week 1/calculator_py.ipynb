{
  "nbformat": 4,
  "nbformat_minor": 0,
  "metadata": {
    "colab": {
      "provenance": [],
      "authorship_tag": "ABX9TyMAagMW18K8mrixrA8VYae7",
      "include_colab_link": true
    },
    "kernelspec": {
      "name": "python3",
      "display_name": "Python 3"
    },
    "language_info": {
      "name": "python"
    }
  },
  "cells": [
    {
      "cell_type": "markdown",
      "metadata": {
        "id": "view-in-github",
        "colab_type": "text"
      },
      "source": [
        "<a href=\"https://colab.research.google.com/github/poornimababu2021-maker/data-analysis/blob/main/calculator_py.ipynb\" target=\"_parent\"><img src=\"https://colab.research.google.com/assets/colab-badge.svg\" alt=\"Open In Colab\"/></a>"
      ]
    },
    {
      "cell_type": "markdown",
      "source": [
        "1.Create a new module called 'calculator.py' with add(),subtract(),multiply().\n",
        "\n",
        "2.Import and use it in this noteebook.\n",
        "\n",
        "3.Explore dir(random) to see available functions.\n",
        "\n",
        "4.Create a package called 'utils' with two modules:- strings.py → count_words(text)-numbers.py → factorial(n)"
      ],
      "metadata": {
        "id": "IByFh46f5Dzw"
      }
    },
    {
      "cell_type": "code",
      "metadata": {
        "colab": {
          "base_uri": "https://localhost:8080/"
        },
        "id": "81130364",
        "outputId": "cbcfda1f-70b9-4a9c-d012-2928732ac48c"
      },
      "source": [
        "%%writefile calculator.py\n",
        "def add(x, y):\n",
        "  return x + y\n",
        "\n",
        "def subtract(x, y):\n",
        "  return x - y\n",
        "\n",
        "def multiply(x, y):\n",
        "  return x * y"
      ],
      "execution_count": 3,
      "outputs": [
        {
          "output_type": "stream",
          "name": "stdout",
          "text": [
            "Writing calculator.py\n"
          ]
        }
      ]
    },
    {
      "cell_type": "code",
      "metadata": {
        "colab": {
          "base_uri": "https://localhost:8080/"
        },
        "id": "3cab6768",
        "outputId": "0bf6b9ef-17be-456b-bb64-fe965f2a9c97"
      },
      "source": [
        "import calculator\n",
        "\n",
        "# Example usage\n",
        "result_add = calculator.add(5, 3)\n",
        "result_subtract = calculator.subtract(10, 4)\n",
        "result_multiply = calculator.multiply(2, 6)\n",
        "\n",
        "print(f\"Addition: {result_add}\")\n",
        "print(f\"Subtraction: {result_subtract}\")\n",
        "print(f\"Multiply: {result_multiply}\")"
      ],
      "execution_count": 24,
      "outputs": [
        {
          "output_type": "stream",
          "name": "stdout",
          "text": [
            "Addition: 8\n",
            "Subtraction: 6\n",
            "Multiply: 12\n"
          ]
        }
      ]
    },
    {
      "cell_type": "code",
      "metadata": {
        "colab": {
          "base_uri": "https://localhost:8080/"
        },
        "id": "817bdef2",
        "outputId": "b7c65aac-645f-44c9-c440-88bb9e28c548"
      },
      "source": [
        "import random\n",
        "print(dir(random))"
      ],
      "execution_count": 6,
      "outputs": [
        {
          "output_type": "stream",
          "name": "stdout",
          "text": [
            "['BPF', 'LOG4', 'NV_MAGICCONST', 'RECIP_BPF', 'Random', 'SG_MAGICCONST', 'SystemRandom', 'TWOPI', '_ONE', '_Sequence', '__all__', '__builtins__', '__cached__', '__doc__', '__file__', '__loader__', '__name__', '__package__', '__spec__', '_accumulate', '_acos', '_bisect', '_ceil', '_cos', '_e', '_exp', '_fabs', '_floor', '_index', '_inst', '_isfinite', '_lgamma', '_log', '_log2', '_os', '_pi', '_random', '_repeat', '_sha512', '_sin', '_sqrt', '_test', '_test_generator', '_urandom', '_warn', 'betavariate', 'binomialvariate', 'choice', 'choices', 'expovariate', 'gammavariate', 'gauss', 'getrandbits', 'getstate', 'lognormvariate', 'normalvariate', 'paretovariate', 'randbytes', 'randint', 'random', 'randrange', 'sample', 'seed', 'setstate', 'shuffle', 'triangular', 'uniform', 'vonmisesvariate', 'weibullvariate']\n"
          ]
        }
      ]
    },
    {
      "cell_type": "code",
      "metadata": {
        "id": "a15a334f"
      },
      "source": [
        "with open(\"utils/__init__.py\", \"w\") as f:\n",
        "    pass"
      ],
      "execution_count": 17,
      "outputs": []
    },
    {
      "cell_type": "code",
      "source": [
        "with open(\"utils/strings.py\", \"w\") as f:\n",
        "    f.write(\"def count_words(text):\\n\")\n",
        "    f.write(\"  return len(text.split())\\n\")"
      ],
      "metadata": {
        "id": "qt5e-0Mu21dv"
      },
      "execution_count": 18,
      "outputs": []
    },
    {
      "cell_type": "code",
      "metadata": {
        "id": "e1d89292"
      },
      "source": [
        "with open(\"utils/numbers.py\", \"w\") as f:\n",
        "  f.write(\"def factorial(n):\\n\")\n",
        "  f.write(\"  if n == 0:\\n\")\n",
        "  f.write(\"    return 1\\n\")\n",
        "  f.write(\"  else:\\n\")\n",
        "  f.write(\"    return n * factorial(n-1)\\n\")"
      ],
      "execution_count": 19,
      "outputs": []
    },
    {
      "cell_type": "code",
      "source": [
        "import utils.strings\n",
        "import utils.numbers\n",
        "\n",
        "text = \"Python is fun and powerful.\"\n",
        "word_count = utils.strings.count_words(text)\n",
        "print(f\"Word count: {word_count}\")\n",
        "\n",
        "number = 5\n",
        "fact = utils.numbers.factorial(number)\n",
        "print(f\"Factorial of {number}: {fact}\")"
      ],
      "metadata": {
        "colab": {
          "base_uri": "https://localhost:8080/"
        },
        "id": "ctqSbk3F3KbA",
        "outputId": "64858781-6c2a-4c80-c1d7-00fb377b21c8"
      },
      "execution_count": 23,
      "outputs": [
        {
          "output_type": "stream",
          "name": "stdout",
          "text": [
            "Word count: 5\n",
            "Factorial of 5: 120\n"
          ]
        }
      ]
    }
  ]
}
