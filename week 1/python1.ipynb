{
  "nbformat": 4,
  "nbformat_minor": 0,
  "metadata": {
    "colab": {
      "provenance": [],
      "mount_file_id": "1NsbxMiKvoNUpuRJkxZPs-SzyJkSJswef",
      "authorship_tag": "ABX9TyOudahPifyTzbQ3pXFBsGFF",
      "include_colab_link": true
    },
    "kernelspec": {
      "name": "python3",
      "display_name": "Python 3"
    },
    "language_info": {
      "name": "python"
    }
  },
  "cells": [
    {
      "cell_type": "markdown",
      "metadata": {
        "id": "view-in-github",
        "colab_type": "text"
      },
      "source": [
        "<a href=\"https://colab.research.google.com/github/poornimababu2021-maker/data-analysis/blob/main/python1.ipynb\" target=\"_parent\"><img src=\"https://colab.research.google.com/assets/colab-badge.svg\" alt=\"Open In Colab\"/></a>"
      ]
    },
    {
      "cell_type": "markdown",
      "source": [
        "***write a program to handle division by zero when dividing two numbers***"
      ],
      "metadata": {
        "id": "GKCPWP6zxyeJ"
      }
    },
    {
      "cell_type": "code",
      "source": [
        "num1=float(input('enter the numerator'))\n",
        "num2=float(input('enter the denominator'))\n",
        "try:\n",
        "  result=num1/num2\n",
        "  print(\"result:\",result)\n",
        "except ZeroDivisionError:\n",
        "  print(\"error:Division by zero is not allowed\")"
      ],
      "metadata": {
        "colab": {
          "base_uri": "https://localhost:8080/"
        },
        "id": "COx11_1PxVHc",
        "outputId": "dd7b8cfa-abb3-46b8-a4a6-4e1117bfa24c"
      },
      "execution_count": null,
      "outputs": [
        {
          "output_type": "stream",
          "name": "stdout",
          "text": [
            "enter the numerator10\n",
            "enter the denominator0\n",
            "error:Division by zero is not allowed\n"
          ]
        }
      ]
    },
    {
      "cell_type": "markdown",
      "source": [
        "***Handle both ValueError and ZeroDivisionError during user input***"
      ],
      "metadata": {
        "id": "qoi6d7-4zEzc"
      }
    },
    {
      "cell_type": "code",
      "source": [
        "try:\n",
        "  num1=float(input('enter the numerator'))\n",
        "  num2=float(input('enter the denominator'))\n",
        "  result=num1/num2\n",
        "except ValueError:\n",
        "  print(\"error:please enter valid numeric valuees.\")\n",
        "except ZeroDivisionError:\n",
        "  print(\"Error:Division by zero is not allowed.\")\n",
        "else:\n",
        "  print(\"Result:\",result)\n",
        "finally:\n",
        "  print(\"Program execution completed.\")"
      ],
      "metadata": {
        "colab": {
          "base_uri": "https://localhost:8080/"
        },
        "id": "0CVWxSjLvJ2r",
        "outputId": "637ecb39-a018-43aa-bf0d-dc49ca3ad9aa"
      },
      "execution_count": null,
      "outputs": [
        {
          "output_type": "stream",
          "name": "stdout",
          "text": [
            "enter the numerator10\n",
            "enter the denominator0\n",
            "Error:Division by zero is not allowed.\n",
            "Program execution completed.\n"
          ]
        }
      ]
    },
    {
      "cell_type": "markdown",
      "source": [
        ".***Use else and finally to print messages when operations succeed and files close***"
      ],
      "metadata": {
        "id": "E_UkAtt4zpgK"
      }
    },
    {
      "cell_type": "code",
      "source": [
        "try:\n",
        "    file=open(\"result.txt\",\"w\")\n",
        "    num1=float(input(\"enter the numerator:\"))\n",
        "    num2=float(input(\"enter the denominator:\"))\n",
        "    result=num1/num2\n",
        "except ValueError:\n",
        "    print(\"Error:please enter valid numeric values.\")\n",
        "except ZeroDivisionError:\n",
        "    print(\"Error:Division by zero is not allowed.\")\n",
        "else:\n",
        "    print(\"Division successful! Result:\",result)\n",
        "    file.write(f\"Division result:{result}\\n\")\n",
        "finally:\n",
        "    file.close()\n",
        "    print(\"File closed.Program execution completed.\")\n"
      ],
      "metadata": {
        "colab": {
          "base_uri": "https://localhost:8080/"
        },
        "id": "up5nQo2AyG22",
        "outputId": "3d0fb09c-c01c-41d4-cb63-a032278779fc"
      },
      "execution_count": null,
      "outputs": [
        {
          "output_type": "stream",
          "name": "stdout",
          "text": [
            "enter the numerator:20\n",
            "enter the denominator:4\n",
            "Division successful! Result: 5.0\n",
            "File closed.Program execution completed.\n"
          ]
        }
      ]
    }
  ]
}
